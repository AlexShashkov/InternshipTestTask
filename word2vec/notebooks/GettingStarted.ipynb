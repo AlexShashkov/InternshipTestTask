{
 "cells": [
  {
   "cell_type": "code",
   "execution_count": 1,
   "metadata": {
    "ExecuteTime": {
     "end_time": "2019-09-05T12:11:28.431278Z",
     "start_time": "2019-09-05T12:11:28.422663Z"
    }
   },
   "outputs": [],
   "source": [
    "import sys\n",
    "sys.path.append('../')"
   ]
  },
  {
   "cell_type": "markdown",
   "metadata": {},
   "source": [
    "### Предобработка"
   ]
  },
  {
   "cell_type": "markdown",
   "metadata": {},
   "source": [
    "Для предобработки текста потребуются токенизация - разделение строки на отдельные составляющие - и лемматизация - приведение к нормальной форме. \n",
    "\n",
    "Одним из лучших токенизаторов для русского языка является `SpacyTokenizer`, однако вы можете дополнительно исследовать и изменить принципы разделения токенов.\n",
    "\n",
    "Для лемматизации можно использовать `pymorphy2` или `pymystem`.\n",
    "\n",
    "\n",
    "### DELETE\n",
    "Дополнительно вам может потребоваться отфильтровать ссылки, названия на английском, номера и прочие лишние по вашему мнению элементы."
   ]
  },
  {
   "cell_type": "code",
   "execution_count": 2,
   "metadata": {
    "ExecuteTime": {
     "end_time": "2019-09-05T12:11:30.166823Z",
     "start_time": "2019-09-05T12:11:29.337583Z"
    }
   },
   "outputs": [],
   "source": [
    "from lib import SpacyRulesRussianTokenizer\n",
    "from lib import Pymorphy2Tagger\n",
    "from lib import Pymorphy2Lemmatizer"
   ]
  },
  {
   "cell_type": "code",
   "execution_count": 3,
   "metadata": {
    "ExecuteTime": {
     "end_time": "2019-09-05T12:11:30.309129Z",
     "start_time": "2019-09-05T12:11:30.170159Z"
    }
   },
   "outputs": [
    {
     "name": "stdout",
     "output_type": "stream",
     "text": [
      "['Сможете', 'ли', 'вы', 'написать', 'новую', 'модель', 'без', 'копипаста', '?']\n"
     ]
    }
   ],
   "source": [
    "tokenizer = SpacyRulesRussianTokenizer()\n",
    "tokenized = tokenizer.transform_element('Сможете ли вы написать новую модель без копипаста?')\n",
    "\n",
    "print(tokenized)"
   ]
  },
  {
   "cell_type": "code",
   "execution_count": 4,
   "metadata": {
    "ExecuteTime": {
     "end_time": "2019-09-05T12:11:30.431183Z",
     "start_time": "2019-09-05T12:11:30.317113Z"
    }
   },
   "outputs": [
    {
     "name": "stdout",
     "output_type": "stream",
     "text": [
      "[{'initial_form': 'сможете', 'normal_form': 'смочь', 'pos_tag': 'VERB', 'ner_tag': None}, {'initial_form': 'ли', 'normal_form': 'ли', 'pos_tag': 'PRCL', 'ner_tag': None}, {'initial_form': 'вы', 'normal_form': 'вы', 'pos_tag': 'NPRO', 'ner_tag': None}, {'initial_form': 'написать', 'normal_form': 'написать', 'pos_tag': 'INFN', 'ner_tag': None}, {'initial_form': 'новую', 'normal_form': 'новый', 'pos_tag': 'ADJF', 'ner_tag': None}, {'initial_form': 'модель', 'normal_form': 'модель', 'pos_tag': 'NOUN', 'ner_tag': None}, {'initial_form': 'без', 'normal_form': 'без', 'pos_tag': 'PREP', 'ner_tag': None}, {'initial_form': 'копипаста', 'normal_form': 'копипаста', 'pos_tag': 'NOUN', 'ner_tag': None}, {'initial_form': '?', 'normal_form': '?', 'pos_tag': None, 'ner_tag': None}]\n",
      "\n",
      "[{'initial_form': 'сможете', 'normal_form': 'смочь', 'pos_tag': 'VERB', 'ner_tag': None}, {'initial_form': 'ли', 'normal_form': 'ли', 'pos_tag': 'PRCL', 'ner_tag': None}, {'initial_form': 'вы', 'normal_form': 'вы', 'pos_tag': 'NPRO', 'ner_tag': None}, {'initial_form': 'написать', 'normal_form': 'написать', 'pos_tag': 'INFN', 'ner_tag': None}, {'initial_form': 'новую', 'normal_form': 'новый', 'pos_tag': 'ADJF', 'ner_tag': None}, {'initial_form': 'модель', 'normal_form': 'модель', 'pos_tag': 'NOUN', 'ner_tag': None}, {'initial_form': 'без', 'normal_form': 'без', 'pos_tag': 'PREP', 'ner_tag': None}, {'initial_form': 'копипаста', 'normal_form': 'копипаста', 'pos_tag': 'NOUN', 'ner_tag': None}, {'initial_form': '?', 'normal_form': '?', 'pos_tag': None, 'ner_tag': None}]\n",
      "\n",
      "[[{'initial_form': 'сможете', 'normal_form': 'смочь', 'pos_tag': 'VERB', 'ner_tag': None}, {'initial_form': 'ли', 'normal_form': 'ли', 'pos_tag': 'PRCL', 'ner_tag': None}, {'initial_form': 'вы', 'normal_form': 'вы', 'pos_tag': 'NPRO', 'ner_tag': None}, {'initial_form': 'написать', 'normal_form': 'написать', 'pos_tag': 'INFN', 'ner_tag': None}, {'initial_form': 'новую', 'normal_form': 'новый', 'pos_tag': 'ADJF', 'ner_tag': None}, {'initial_form': 'модель', 'normal_form': 'модель', 'pos_tag': 'NOUN', 'ner_tag': None}, {'initial_form': 'без', 'normal_form': 'без', 'pos_tag': 'PREP', 'ner_tag': None}, {'initial_form': 'копипаста', 'normal_form': 'копипаста', 'pos_tag': 'NOUN', 'ner_tag': None}, {'initial_form': '?', 'normal_form': '?', 'pos_tag': None, 'ner_tag': None}]]\n"
     ]
    }
   ],
   "source": [
    "tagger = Pymorphy2Tagger()\n",
    "tagged_1 = [tagger.transform_token(word) for word in tokenized]\n",
    "# or\n",
    "tagged_2 = tagger.transform_string(tokenized)\n",
    "# or\n",
    "tagged_3 = tagger.transform([tokenized])\n",
    "\n",
    "print(tagged_1)\n",
    "print()\n",
    "print(tagged_2)\n",
    "print()\n",
    "print(tagged_3)"
   ]
  },
  {
   "cell_type": "code",
   "execution_count": 5,
   "metadata": {
    "ExecuteTime": {
     "end_time": "2019-09-05T12:11:31.253130Z",
     "start_time": "2019-09-05T12:11:31.161280Z"
    }
   },
   "outputs": [
    {
     "name": "stdout",
     "output_type": "stream",
     "text": [
      "['смочь', 'ли', 'вы', 'написать', 'новый', 'модель', 'без', 'копипаста', '?']\n",
      "\n",
      "['смочь', 'ли', 'вы', 'написать', 'новый', 'модель', 'без', 'копипаста', '?']\n",
      "\n",
      "[['смочь', 'ли', 'вы', 'написать', 'новый', 'модель', 'без', 'копипаста', '?']]\n"
     ]
    }
   ],
   "source": [
    "lemmatizer = Pymorphy2Lemmatizer()\n",
    "lemmatized_1 = [lemmatizer.transform_token(word) for word in tokenized]\n",
    "# or\n",
    "lemmatized_2 = lemmatizer.transform_string(tokenized)\n",
    "# or\n",
    "lemmatized_3 = lemmatizer.transform([tokenized])\n",
    "\n",
    "print(lemmatized_1)\n",
    "print()\n",
    "print(lemmatized_2)\n",
    "print()\n",
    "print(lemmatized_3)"
   ]
  },
  {
   "cell_type": "markdown",
   "metadata": {},
   "source": [
    "Обратите внимание, что `pymorphy2` выдаёт несколько вариантов разбора слова:"
   ]
  },
  {
   "cell_type": "code",
   "execution_count": 6,
   "metadata": {
    "ExecuteTime": {
     "end_time": "2019-09-05T12:11:40.062579Z",
     "start_time": "2019-09-05T12:11:40.032356Z"
    }
   },
   "outputs": [
    {
     "data": {
      "text/plain": [
       "[Parse(word='стали', tag=OpencorporaTag('VERB,perf,intr plur,past,indc'), normal_form='стать', score=0.984662, methods_stack=((<DictionaryAnalyzer>, 'стали', 904, 4),)),\n",
       " Parse(word='стали', tag=OpencorporaTag('NOUN,inan,femn sing,gent'), normal_form='сталь', score=0.003067, methods_stack=((<DictionaryAnalyzer>, 'стали', 13, 1),)),\n",
       " Parse(word='стали', tag=OpencorporaTag('NOUN,inan,femn sing,datv'), normal_form='сталь', score=0.003067, methods_stack=((<DictionaryAnalyzer>, 'стали', 13, 2),)),\n",
       " Parse(word='стали', tag=OpencorporaTag('NOUN,inan,femn sing,loct'), normal_form='сталь', score=0.003067, methods_stack=((<DictionaryAnalyzer>, 'стали', 13, 5),)),\n",
       " Parse(word='стали', tag=OpencorporaTag('NOUN,inan,femn plur,nomn'), normal_form='сталь', score=0.003067, methods_stack=((<DictionaryAnalyzer>, 'стали', 13, 6),)),\n",
       " Parse(word='стали', tag=OpencorporaTag('NOUN,inan,femn plur,accs'), normal_form='сталь', score=0.003067, methods_stack=((<DictionaryAnalyzer>, 'стали', 13, 9),))]"
      ]
     },
     "execution_count": 6,
     "metadata": {},
     "output_type": "execute_result"
    }
   ],
   "source": [
    "tagger.parse('стали')"
   ]
  },
  {
   "cell_type": "markdown",
   "metadata": {},
   "source": [
    "### Валидация"
   ]
  },
  {
   "cell_type": "markdown",
   "metadata": {},
   "source": [
    "Валидацию можно осуществить с помощью моделей из модуля `sklearn.ensemble`."
   ]
  },
  {
   "cell_type": "markdown",
   "metadata": {},
   "source": [
    "#### Удачи!"
   ]
  }
 ],
 "metadata": {
  "kernelspec": {
   "display_name": "Python 3",
   "language": "python",
   "name": "python3"
  },
  "language_info": {
   "codemirror_mode": {
    "name": "ipython",
    "version": 3
   },
   "file_extension": ".py",
   "mimetype": "text/x-python",
   "name": "python",
   "nbconvert_exporter": "python",
   "pygments_lexer": "ipython3",
   "version": "3.7.4"
  }
 },
 "nbformat": 4,
 "nbformat_minor": 2
}
